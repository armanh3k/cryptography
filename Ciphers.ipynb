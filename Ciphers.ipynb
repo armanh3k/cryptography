{
 "cells": [
  {
   "cell_type": "markdown",
   "id": "17f6fd1c",
   "metadata": {},
   "source": [
    "# Caesar Shift Cipher"
   ]
  },
  {
   "cell_type": "code",
   "execution_count": 104,
   "id": "98337f6b",
   "metadata": {},
   "outputs": [
    {
     "data": {
      "text/plain": [
       "'THE SHIP SAILS TOMORROW'"
      ]
     },
     "execution_count": 104,
     "metadata": {},
     "output_type": "execute_result"
    }
   ],
   "source": [
    "import enchant\n",
    "d = enchant.Dict(\"en_GB\") \n",
    "\n",
    "class Caesar:\n",
    "    def __init__(self, message: str = ''):\n",
    "        self.message = message.upper()\n",
    "        self.alphabet = \"ABCDEFGHIJKLMNOPQRSTUVWXYZ\"\n",
    "    \n",
    "    def encrypt(self, shift : int) -> str:\n",
    "        '''\n",
    "            Caesar Shift Cipher Encrypter:\n",
    "                Encrypts given plaintext message using the Caesar Shift Cipher by moving \n",
    "                each letter across the alphabet by specified shift value.\n",
    "        '''\n",
    "        output_string = ''\n",
    "        for char in self.message:\n",
    "            if char not in self.alphabet:\n",
    "                output_string += char\n",
    "            else:\n",
    "                output_string += self.alphabet[(self.alphabet.index(char)+shift)%26]\n",
    "\n",
    "        return output_string\n",
    "    \n",
    "    def decrypt_brute(self) -> str:\n",
    "        '''\n",
    "            Caesar Shift Cipher Decrypter: Brute force\n",
    "                Decrypts given ciphertext and outputs the most likely plaintext using brute force.\n",
    "        '''\n",
    "        # create list of all 26 possible plaintexts\n",
    "        possible_outputs = [self.message]\n",
    "        for shift in range(1, 26):\n",
    "            possible_outputs.append(self.encrypt(shift))\n",
    "            \n",
    "        # check to see if word in shifted ciphertext is an english word, skip to next if not\n",
    "        valid = True\n",
    "        for i in possible_outputs:\n",
    "            list_of_words = i.split()\n",
    "            for word in list_of_words:\n",
    "                if d.check(word) == False:\n",
    "                    valid = False\n",
    "                    break\n",
    "                else:\n",
    "                    valid = True\n",
    "            if valid == True:\n",
    "                return i\n",
    "        return possible_outputs\n",
    "        \n",
    "\n",
    "    def decrypt_fast(self) -> str:\n",
    "        '''\n",
    "            Caesar Shift Cipher Decrypter: Frequency Analysis\n",
    "                Decrypts given ciphertext and outputs the most likely plaintext using the uniform\n",
    "                distribution of each character in the alphabet. i.e. how frequently each character\n",
    "                appears.\n",
    "        '''\n",
    "        pass\n",
    "    \n",
    "    \n",
    "    @classmethod\n",
    "    def winston_churchill(cls):\n",
    "        quote = cls('L FDQQRW IRUHFDVW WR BRX WKH DFWLRQ RI UXVVLD LW LV D ULGGOH ZUDSSHG LQ D PBVWHUB LQVLGH DQ HQLJPD ZLQVWRQ FKXUFKLOO')\n",
    "        return quote.decrypt_brute()\n",
    "    \n",
    "\n",
    "    \n",
    "x = Caesar('qeb pefm pxfip qljloolt')\n",
    "        \n",
    "x.decrypt_brute()\n",
    "\n",
    "\n",
    "        \n",
    "    "
   ]
  },
  {
   "cell_type": "code",
   "execution_count": 86,
   "id": "e808ee2f",
   "metadata": {},
   "outputs": [
    {
     "data": {
      "text/plain": [
       "True"
      ]
     },
     "execution_count": 86,
     "metadata": {},
     "output_type": "execute_result"
    }
   ],
   "source": [
    "\n",
    "#d.check(\"enchant\")\n",
    "d.check('l')\n"
   ]
  },
  {
   "cell_type": "markdown",
   "id": "a68e7063",
   "metadata": {},
   "source": [
    "# Monoalphabetic Substitution Cipher"
   ]
  },
  {
   "cell_type": "code",
   "execution_count": null,
   "id": "18f9dc4e",
   "metadata": {},
   "outputs": [],
   "source": []
  },
  {
   "cell_type": "markdown",
   "id": "2f622e62",
   "metadata": {},
   "source": [
    "# Vigenère Cipher"
   ]
  },
  {
   "cell_type": "code",
   "execution_count": null,
   "id": "99c093de",
   "metadata": {},
   "outputs": [],
   "source": []
  }
 ],
 "metadata": {
  "kernelspec": {
   "display_name": "Python 3",
   "language": "python",
   "name": "python3"
  },
  "language_info": {
   "codemirror_mode": {
    "name": "ipython",
    "version": 3
   },
   "file_extension": ".py",
   "mimetype": "text/x-python",
   "name": "python",
   "nbconvert_exporter": "python",
   "pygments_lexer": "ipython3",
   "version": "3.9.5"
  }
 },
 "nbformat": 4,
 "nbformat_minor": 5
}
